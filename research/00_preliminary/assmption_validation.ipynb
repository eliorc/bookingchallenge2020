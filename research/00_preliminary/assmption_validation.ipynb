{
 "cells": [
  {
   "cell_type": "markdown",
   "metadata": {},
   "source": [
    "# Assumption Validation\n",
    "\n",
    "This notebook is about validating basic assumptions on the data"
   ]
  },
  {
   "cell_type": "code",
   "execution_count": 1,
   "metadata": {
    "ExecuteTime": {
     "end_time": "2020-12-18T07:45:16.728100Z",
     "start_time": "2020-12-18T07:45:16.527327Z"
    }
   },
   "outputs": [],
   "source": [
    "from src import data_io"
   ]
  },
  {
   "cell_type": "markdown",
   "metadata": {},
   "source": [
    "# Prerequisites"
   ]
  },
  {
   "cell_type": "markdown",
   "metadata": {},
   "source": [
    "## Load data"
   ]
  },
  {
   "cell_type": "code",
   "execution_count": 2,
   "metadata": {
    "ExecuteTime": {
     "end_time": "2020-12-18T07:45:17.990835Z",
     "start_time": "2020-12-18T07:45:17.289459Z"
    }
   },
   "outputs": [],
   "source": [
    "raw = data_io.load_raw_data()"
   ]
  },
  {
   "cell_type": "markdown",
   "metadata": {},
   "source": [
    "# Data dictionary"
   ]
  },
  {
   "cell_type": "code",
   "execution_count": 3,
   "metadata": {
    "ExecuteTime": {
     "end_time": "2020-12-18T07:45:17.999738Z",
     "start_time": "2020-12-18T07:45:17.991566Z"
    }
   },
   "outputs": [
    {
     "data": {
      "text/html": [
       "<div>\n",
       "<style scoped>\n",
       "    .dataframe tbody tr th:only-of-type {\n",
       "        vertical-align: middle;\n",
       "    }\n",
       "\n",
       "    .dataframe tbody tr th {\n",
       "        vertical-align: top;\n",
       "    }\n",
       "\n",
       "    .dataframe thead th {\n",
       "        text-align: right;\n",
       "    }\n",
       "</style>\n",
       "<table border=\"1\" class=\"dataframe\">\n",
       "  <thead>\n",
       "    <tr style=\"text-align: right;\">\n",
       "      <th></th>\n",
       "      <th>user_id</th>\n",
       "      <th>checkin</th>\n",
       "      <th>checkout</th>\n",
       "      <th>city_id</th>\n",
       "      <th>device_class</th>\n",
       "      <th>affiliate_id</th>\n",
       "      <th>booker_country</th>\n",
       "      <th>hotel_country</th>\n",
       "      <th>utrip_id</th>\n",
       "    </tr>\n",
       "  </thead>\n",
       "  <tbody>\n",
       "    <tr>\n",
       "      <th>0</th>\n",
       "      <td>1006220</td>\n",
       "      <td>2016-04-09</td>\n",
       "      <td>2016-04-11</td>\n",
       "      <td>31114</td>\n",
       "      <td>desktop</td>\n",
       "      <td>384</td>\n",
       "      <td>Gondal</td>\n",
       "      <td>Gondal</td>\n",
       "      <td>1006220_1</td>\n",
       "    </tr>\n",
       "    <tr>\n",
       "      <th>1</th>\n",
       "      <td>1006220</td>\n",
       "      <td>2016-04-11</td>\n",
       "      <td>2016-04-12</td>\n",
       "      <td>39641</td>\n",
       "      <td>desktop</td>\n",
       "      <td>384</td>\n",
       "      <td>Gondal</td>\n",
       "      <td>Gondal</td>\n",
       "      <td>1006220_1</td>\n",
       "    </tr>\n",
       "    <tr>\n",
       "      <th>2</th>\n",
       "      <td>1006220</td>\n",
       "      <td>2016-04-12</td>\n",
       "      <td>2016-04-16</td>\n",
       "      <td>20232</td>\n",
       "      <td>desktop</td>\n",
       "      <td>384</td>\n",
       "      <td>Gondal</td>\n",
       "      <td>Glubbdubdrib</td>\n",
       "      <td>1006220_1</td>\n",
       "    </tr>\n",
       "    <tr>\n",
       "      <th>3</th>\n",
       "      <td>1006220</td>\n",
       "      <td>2016-04-16</td>\n",
       "      <td>2016-04-17</td>\n",
       "      <td>24144</td>\n",
       "      <td>desktop</td>\n",
       "      <td>384</td>\n",
       "      <td>Gondal</td>\n",
       "      <td>Gondal</td>\n",
       "      <td>1006220_1</td>\n",
       "    </tr>\n",
       "    <tr>\n",
       "      <th>4</th>\n",
       "      <td>1010293</td>\n",
       "      <td>2016-07-09</td>\n",
       "      <td>2016-07-10</td>\n",
       "      <td>5325</td>\n",
       "      <td>mobile</td>\n",
       "      <td>359</td>\n",
       "      <td>The Devilfire Empire</td>\n",
       "      <td>Cobra Island</td>\n",
       "      <td>1010293_1</td>\n",
       "    </tr>\n",
       "  </tbody>\n",
       "</table>\n",
       "</div>"
      ],
      "text/plain": [
       "   user_id    checkin   checkout  city_id device_class  affiliate_id  \\\n",
       "0  1006220 2016-04-09 2016-04-11    31114      desktop           384   \n",
       "1  1006220 2016-04-11 2016-04-12    39641      desktop           384   \n",
       "2  1006220 2016-04-12 2016-04-16    20232      desktop           384   \n",
       "3  1006220 2016-04-16 2016-04-17    24144      desktop           384   \n",
       "4  1010293 2016-07-09 2016-07-10     5325       mobile           359   \n",
       "\n",
       "         booker_country hotel_country   utrip_id  \n",
       "0                Gondal        Gondal  1006220_1  \n",
       "1                Gondal        Gondal  1006220_1  \n",
       "2                Gondal  Glubbdubdrib  1006220_1  \n",
       "3                Gondal        Gondal  1006220_1  \n",
       "4  The Devilfire Empire  Cobra Island  1010293_1  "
      ]
     },
     "execution_count": 3,
     "metadata": {},
     "output_type": "execute_result"
    }
   ],
   "source": [
    "raw.head()"
   ]
  },
  {
   "cell_type": "markdown",
   "metadata": {},
   "source": [
    " - `user_id` - User ID\n",
    " - `check`-in - Reservation check-in date\n",
    " - `checkout` - Reservation check-out date\n",
    " - `affiliate_id` - An anonymized ID of affiliate channels where the booker came from (e.g. direct, some third party referrals, paid search engine, etc.)\n",
    " - `device_class` - desktop/mobile\n",
    " - `booker_country` - Country from which the reservation was made (anonymized)\n",
    " - `hotel_country` - Country of the hotel (anonymized)\n",
    " - `city_id` - city_id of the hotel’s city (anonymized)\n",
    " - `utrip_id` - Unique identification of user’s trip (a group of multi-destinations bookings within the same trip)"
   ]
  },
  {
   "cell_type": "markdown",
   "metadata": {},
   "source": [
    "# Nullability ✅\n",
    "\n",
    "None of the data should be nullable"
   ]
  },
  {
   "cell_type": "code",
   "execution_count": 4,
   "metadata": {
    "ExecuteTime": {
     "end_time": "2020-12-18T07:45:20.046809Z",
     "start_time": "2020-12-18T07:45:19.936368Z"
    }
   },
   "outputs": [],
   "source": [
    "assert not raw.isnull().sum().sum()"
   ]
  },
  {
   "cell_type": "markdown",
   "metadata": {},
   "source": [
    "# `utrip_id` splitability ✅\n",
    "\n",
    "Seems like `utrip_id` is made from two numbers separated by an underscore, validate this is true throughout the data"
   ]
  },
  {
   "cell_type": "code",
   "execution_count": 5,
   "metadata": {
    "ExecuteTime": {
     "end_time": "2020-12-18T07:45:20.390568Z",
     "start_time": "2020-12-18T07:45:20.296533Z"
    }
   },
   "outputs": [],
   "source": [
    "all_utrip_uids = set(raw.utrip_id)\n",
    "for utrip_id in all_utrip_uids:\n",
    "    part1, part2 = utrip_id.split('_')\n",
    "    assert part1.isnumeric() and part2.isnumeric()"
   ]
  },
  {
   "cell_type": "markdown",
   "metadata": {
    "ExecuteTime": {
     "end_time": "2020-12-16T10:47:21.146416Z",
     "start_time": "2020-12-16T10:47:21.143533Z"
    }
   },
   "source": [
    "# `user_id` is the first element of `utrip_id` ✅\n",
    "\n",
    "Seems like the `user_id` is the first number of `utrip_id`, verify that this is true throughout the entire data"
   ]
  },
  {
   "cell_type": "code",
   "execution_count": 6,
   "metadata": {
    "ExecuteTime": {
     "end_time": "2020-12-18T07:45:21.052767Z",
     "start_time": "2020-12-18T07:45:20.744132Z"
    }
   },
   "outputs": [],
   "source": [
    "user_ids_from_utrip_id = raw['utrip_id'].apply(lambda x: int(x.split('_')[0]))\n",
    "assert (user_ids_from_utrip_id == raw.user_id).all()"
   ]
  },
  {
   "cell_type": "markdown",
   "metadata": {},
   "source": [
    "# Every `city_id` has only one `hotel_country` ✅\n",
    "\n",
    "Same `city_id` should have the same `hotel_country`"
   ]
  },
  {
   "cell_type": "code",
   "execution_count": 7,
   "metadata": {
    "ExecuteTime": {
     "end_time": "2020-12-18T07:45:22.166341Z",
     "start_time": "2020-12-18T07:45:22.041327Z"
    }
   },
   "outputs": [],
   "source": [
    "assert raw.groupby('city_id')['hotel_country'].nunique().max() == 1"
   ]
  },
  {
   "cell_type": "markdown",
   "metadata": {},
   "source": [
    "# `device_class` is unique per `utrip_id` ❌\n",
    "\n",
    "Assuming the device class is the device used for booking the entire trip"
   ]
  },
  {
   "cell_type": "code",
   "execution_count": 8,
   "metadata": {
    "ExecuteTime": {
     "end_time": "2020-12-18T09:31:06.347359Z",
     "start_time": "2020-12-18T09:31:06.088148Z"
    }
   },
   "outputs": [
    {
     "ename": "AssertionError",
     "evalue": "",
     "output_type": "error",
     "traceback": [
      "\u001b[0;31m---------------------------------------------------------------------------\u001b[0m",
      "\u001b[0;31mAssertionError\u001b[0m                            Traceback (most recent call last)",
      "\u001b[0;32m<ipython-input-8-56280cd07921>\u001b[0m in \u001b[0;36m<module>\u001b[0;34m\u001b[0m\n\u001b[0;32m----> 1\u001b[0;31m \u001b[0;32massert\u001b[0m \u001b[0mraw\u001b[0m\u001b[0;34m.\u001b[0m\u001b[0mgroupby\u001b[0m\u001b[0;34m(\u001b[0m\u001b[0;34m'utrip_id'\u001b[0m\u001b[0;34m)\u001b[0m\u001b[0;34m[\u001b[0m\u001b[0;34m'device_class'\u001b[0m\u001b[0;34m]\u001b[0m\u001b[0;34m.\u001b[0m\u001b[0mnunique\u001b[0m\u001b[0;34m(\u001b[0m\u001b[0;34m)\u001b[0m\u001b[0;34m.\u001b[0m\u001b[0mmax\u001b[0m\u001b[0;34m(\u001b[0m\u001b[0;34m)\u001b[0m \u001b[0;34m==\u001b[0m \u001b[0;36m1\u001b[0m\u001b[0;34m\u001b[0m\u001b[0;34m\u001b[0m\u001b[0m\n\u001b[0m",
      "\u001b[0;31mAssertionError\u001b[0m: "
     ]
    }
   ],
   "source": [
    "assert raw.groupby('utrip_id')['device_class'].nunique().max() == 1"
   ]
  },
  {
   "cell_type": "markdown",
   "metadata": {},
   "source": [
    "Show counter example"
   ]
  },
  {
   "cell_type": "code",
   "execution_count": 9,
   "metadata": {
    "ExecuteTime": {
     "end_time": "2020-12-18T09:32:56.271253Z",
     "start_time": "2020-12-18T09:32:56.022838Z"
    }
   },
   "outputs": [
    {
     "data": {
      "text/html": [
       "<div>\n",
       "<style scoped>\n",
       "    .dataframe tbody tr th:only-of-type {\n",
       "        vertical-align: middle;\n",
       "    }\n",
       "\n",
       "    .dataframe tbody tr th {\n",
       "        vertical-align: top;\n",
       "    }\n",
       "\n",
       "    .dataframe thead th {\n",
       "        text-align: right;\n",
       "    }\n",
       "</style>\n",
       "<table border=\"1\" class=\"dataframe\">\n",
       "  <thead>\n",
       "    <tr style=\"text-align: right;\">\n",
       "      <th></th>\n",
       "      <th>user_id</th>\n",
       "      <th>checkin</th>\n",
       "      <th>checkout</th>\n",
       "      <th>city_id</th>\n",
       "      <th>device_class</th>\n",
       "      <th>affiliate_id</th>\n",
       "      <th>booker_country</th>\n",
       "      <th>hotel_country</th>\n",
       "      <th>utrip_id</th>\n",
       "    </tr>\n",
       "  </thead>\n",
       "  <tbody>\n",
       "    <tr>\n",
       "      <th>4</th>\n",
       "      <td>1010293</td>\n",
       "      <td>2016-07-09</td>\n",
       "      <td>2016-07-10</td>\n",
       "      <td>5325</td>\n",
       "      <td>mobile</td>\n",
       "      <td>359</td>\n",
       "      <td>The Devilfire Empire</td>\n",
       "      <td>Cobra Island</td>\n",
       "      <td>1010293_1</td>\n",
       "    </tr>\n",
       "    <tr>\n",
       "      <th>5</th>\n",
       "      <td>1010293</td>\n",
       "      <td>2016-07-10</td>\n",
       "      <td>2016-07-11</td>\n",
       "      <td>55</td>\n",
       "      <td>mobile</td>\n",
       "      <td>359</td>\n",
       "      <td>The Devilfire Empire</td>\n",
       "      <td>Cobra Island</td>\n",
       "      <td>1010293_1</td>\n",
       "    </tr>\n",
       "    <tr>\n",
       "      <th>6</th>\n",
       "      <td>1010293</td>\n",
       "      <td>2016-07-12</td>\n",
       "      <td>2016-07-13</td>\n",
       "      <td>23921</td>\n",
       "      <td>mobile</td>\n",
       "      <td>359</td>\n",
       "      <td>The Devilfire Empire</td>\n",
       "      <td>Cobra Island</td>\n",
       "      <td>1010293_1</td>\n",
       "    </tr>\n",
       "    <tr>\n",
       "      <th>7</th>\n",
       "      <td>1010293</td>\n",
       "      <td>2016-07-13</td>\n",
       "      <td>2016-07-15</td>\n",
       "      <td>65322</td>\n",
       "      <td>desktop</td>\n",
       "      <td>9924</td>\n",
       "      <td>The Devilfire Empire</td>\n",
       "      <td>Cobra Island</td>\n",
       "      <td>1010293_1</td>\n",
       "    </tr>\n",
       "    <tr>\n",
       "      <th>8</th>\n",
       "      <td>1010293</td>\n",
       "      <td>2016-07-15</td>\n",
       "      <td>2016-07-16</td>\n",
       "      <td>23921</td>\n",
       "      <td>desktop</td>\n",
       "      <td>9924</td>\n",
       "      <td>The Devilfire Empire</td>\n",
       "      <td>Cobra Island</td>\n",
       "      <td>1010293_1</td>\n",
       "    </tr>\n",
       "    <tr>\n",
       "      <th>...</th>\n",
       "      <td>...</td>\n",
       "      <td>...</td>\n",
       "      <td>...</td>\n",
       "      <td>...</td>\n",
       "      <td>...</td>\n",
       "      <td>...</td>\n",
       "      <td>...</td>\n",
       "      <td>...</td>\n",
       "      <td>...</td>\n",
       "    </tr>\n",
       "    <tr>\n",
       "      <th>1166826</th>\n",
       "      <td>987787</td>\n",
       "      <td>2016-08-24</td>\n",
       "      <td>2016-08-27</td>\n",
       "      <td>63650</td>\n",
       "      <td>tablet</td>\n",
       "      <td>9924</td>\n",
       "      <td>Gondal</td>\n",
       "      <td>Glubbdubdrib</td>\n",
       "      <td>987787_1</td>\n",
       "    </tr>\n",
       "    <tr>\n",
       "      <th>1166827</th>\n",
       "      <td>999261</td>\n",
       "      <td>2016-09-04</td>\n",
       "      <td>2016-09-07</td>\n",
       "      <td>11473</td>\n",
       "      <td>desktop</td>\n",
       "      <td>2322</td>\n",
       "      <td>Gondal</td>\n",
       "      <td>Fook Island</td>\n",
       "      <td>999261_1</td>\n",
       "    </tr>\n",
       "    <tr>\n",
       "      <th>1166828</th>\n",
       "      <td>999261</td>\n",
       "      <td>2016-09-07</td>\n",
       "      <td>2016-09-10</td>\n",
       "      <td>6306</td>\n",
       "      <td>desktop</td>\n",
       "      <td>10332</td>\n",
       "      <td>Gondal</td>\n",
       "      <td>Fook Island</td>\n",
       "      <td>999261_1</td>\n",
       "    </tr>\n",
       "    <tr>\n",
       "      <th>1166829</th>\n",
       "      <td>999261</td>\n",
       "      <td>2016-09-10</td>\n",
       "      <td>2016-09-13</td>\n",
       "      <td>44024</td>\n",
       "      <td>desktop</td>\n",
       "      <td>2526</td>\n",
       "      <td>Gondal</td>\n",
       "      <td>Fook Island</td>\n",
       "      <td>999261_1</td>\n",
       "    </tr>\n",
       "    <tr>\n",
       "      <th>1166830</th>\n",
       "      <td>999261</td>\n",
       "      <td>2016-09-13</td>\n",
       "      <td>2016-09-15</td>\n",
       "      <td>14197</td>\n",
       "      <td>tablet</td>\n",
       "      <td>10332</td>\n",
       "      <td>Gondal</td>\n",
       "      <td>Fook Island</td>\n",
       "      <td>999261_1</td>\n",
       "    </tr>\n",
       "  </tbody>\n",
       "</table>\n",
       "<p>356934 rows × 9 columns</p>\n",
       "</div>"
      ],
      "text/plain": [
       "         user_id    checkin   checkout  city_id device_class  affiliate_id  \\\n",
       "4        1010293 2016-07-09 2016-07-10     5325       mobile           359   \n",
       "5        1010293 2016-07-10 2016-07-11       55       mobile           359   \n",
       "6        1010293 2016-07-12 2016-07-13    23921       mobile           359   \n",
       "7        1010293 2016-07-13 2016-07-15    65322      desktop          9924   \n",
       "8        1010293 2016-07-15 2016-07-16    23921      desktop          9924   \n",
       "...          ...        ...        ...      ...          ...           ...   \n",
       "1166826   987787 2016-08-24 2016-08-27    63650       tablet          9924   \n",
       "1166827   999261 2016-09-04 2016-09-07    11473      desktop          2322   \n",
       "1166828   999261 2016-09-07 2016-09-10     6306      desktop         10332   \n",
       "1166829   999261 2016-09-10 2016-09-13    44024      desktop          2526   \n",
       "1166830   999261 2016-09-13 2016-09-15    14197       tablet         10332   \n",
       "\n",
       "               booker_country hotel_country   utrip_id  \n",
       "4        The Devilfire Empire  Cobra Island  1010293_1  \n",
       "5        The Devilfire Empire  Cobra Island  1010293_1  \n",
       "6        The Devilfire Empire  Cobra Island  1010293_1  \n",
       "7        The Devilfire Empire  Cobra Island  1010293_1  \n",
       "8        The Devilfire Empire  Cobra Island  1010293_1  \n",
       "...                       ...           ...        ...  \n",
       "1166826                Gondal  Glubbdubdrib   987787_1  \n",
       "1166827                Gondal   Fook Island   999261_1  \n",
       "1166828                Gondal   Fook Island   999261_1  \n",
       "1166829                Gondal   Fook Island   999261_1  \n",
       "1166830                Gondal   Fook Island   999261_1  \n",
       "\n",
       "[356934 rows x 9 columns]"
      ]
     },
     "execution_count": 9,
     "metadata": {},
     "output_type": "execute_result"
    }
   ],
   "source": [
    "raw[raw.groupby('utrip_id')['device_class'].transform('nunique') != 1]"
   ]
  }
 ],
 "metadata": {
  "kernelspec": {
   "display_name": "Python 3",
   "language": "python",
   "name": "python3"
  },
  "language_info": {
   "codemirror_mode": {
    "name": "ipython",
    "version": 3
   },
   "file_extension": ".py",
   "mimetype": "text/x-python",
   "name": "python",
   "nbconvert_exporter": "python",
   "pygments_lexer": "ipython3",
   "version": "3.8.5"
  },
  "toc": {
   "base_numbering": 1,
   "nav_menu": {},
   "number_sections": true,
   "sideBar": true,
   "skip_h1_title": false,
   "title_cell": "Table of Contents",
   "title_sidebar": "Contents",
   "toc_cell": false,
   "toc_position": {},
   "toc_section_display": true,
   "toc_window_display": true
  }
 },
 "nbformat": 4,
 "nbformat_minor": 4
}
